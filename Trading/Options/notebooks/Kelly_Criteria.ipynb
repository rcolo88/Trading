{
 "cells": [
  {
   "cell_type": "markdown",
   "metadata": {},
   "source": [
    "# Kelly Criterion Calculator\n",
    "\n",
    "## Purpose\n",
    "Calculate optimal position sizing using Kelly Criterion based on backtest results.\n",
    "\n",
    "## Workflow\n",
    "1. **Configure strategies** in `config/config.yaml`\n",
    "2. **Run backtest** using `example_backtest.py`\n",
    "3. **Run this notebook** to calculate Kelly %\n",
    "4. **Copy Kelly values** back to `config/config.yaml` → `position_sizing.kelly_pct`\n",
    "5. **Set method** to `kelly` in config\n",
    "6. **Re-run backtest** with Kelly-based position sizing\n",
    "\n",
    "## Kelly Formula\n",
    "```\n",
    "f* = (p × b - q) / b\n",
    "\n",
    "Where:\n",
    "  f* = Fraction of capital to risk (Kelly %)\n",
    "  p = Win rate\n",
    "  q = Loss rate (1 - p)\n",
    "  b = Payoff ratio = Avg Win / Avg Loss\n",
    "```\n",
    "\n",
    "**Important:** Use **Half Kelly** (multiply by 0.5) or **Quarter Kelly** (multiply by 0.25)\n"
   ]
  },
  {
   "cell_type": "code",
   "execution_count": null,
   "metadata": {},
   "outputs": [],
   "source": [
    "import pandas as pd\n",
    "import numpy as np\n",
    "import yaml\n",
    "import sys\n",
    "from pathlib import Path\n",
    "\n",
    "# Add parent directory to path\n",
    "sys.path.append(str(Path.cwd().parent))\n",
    "\n",
    "from src.strategies.vertical_spreads import BullPutSpread, BullCallSpread\n",
    "from src.strategies.calendar_spreads import CallCalendarSpread\n",
    "from src.backtester.optopsy_wrapper import OptopsyBacktester\n",
    "from src.data_fetchers.synthetic_generator import load_sample_spy_options_data\n",
    "from src.data_fetchers.yahoo_options import fetch_spy_data"
   ]
  },
  {
   "cell_type": "markdown",
   "metadata": {},
   "source": [
    "## 1. Load Config and Data"
   ]
  },
  {
   "cell_type": "code",
   "execution_count": null,
   "metadata": {},
   "outputs": [],
   "source": [
    "# Load configuration\n",
    "with open('../config/config.yaml', 'r') as f:\n",
    "    config = yaml.safe_load(f)\n",
    "\n",
    "print(\"Strategies configured:\")\n",
    "for strategy_name, strategy_config in config['strategies'].items():\n",
    "    enabled = \"✓\" if strategy_config.get('enabled', False) else \"✗\"\n",
    "    print(f\"  {enabled} {strategy_name}\")\n",
    "    \n",
    "    # Show entry parameters\n",
    "    entry = strategy_config.get('entry', {})\n",
    "    for key, value in entry.items():\n",
    "        print(f\"      {key}: {value}\")"
   ]
  },
  {
   "cell_type": "code",
   "execution_count": null,
   "metadata": {},
   "outputs": [],
   "source": [
    "# Load options data\n",
    "print(\"Loading synthetic options data...\")\n",
    "options_data = load_sample_spy_options_data()\n",
    "print(f\"✓ Loaded {len(options_data):,} option rows\")\n",
    "\n",
    "# Load underlying data\n",
    "print(\"\\nLoading SPY price data...\")\n",
    "start_date = options_data['quote_date'].min().strftime('%Y-%m-%d')\n",
    "end_date = options_data['quote_date'].max().strftime('%Y-%m-%d')\n",
    "underlying_data = fetch_spy_data(start_date, end_date)\n",
    "print(f\"✓ Loaded {len(underlying_data)} days of price data\")\n",
    "print(f\"  Date range: {start_date} to {end_date}\")"
   ]
  },
  {
   "cell_type": "markdown",
   "metadata": {},
   "source": [
    "## 2. Run Backtests for Each Strategy"
   ]
  },
  {
   "cell_type": "code",
   "execution_count": null,
   "metadata": {},
   "outputs": [],
   "source": [
    "# Initialize backtester\n",
    "backtester = OptopsyBacktester(config)\n",
    "\n",
    "# Storage for results\n",
    "all_results = {}\n",
    "\n",
    "# Get enabled strategies\n",
    "enabled_strategies = [\n",
    "    name for name, cfg in config['strategies'].items() \n",
    "    if cfg.get('enabled', False)\n",
    "]\n",
    "\n",
    "print(f\"Running backtests for {len(enabled_strategies)} strategies...\\n\")"
   ]
  },
  {
   "cell_type": "code",
   "execution_count": null,
   "metadata": {},
   "outputs": [],
   "source": [
    "# Run bull_put_spread\n",
    "if 'bull_put_spread' in enabled_strategies:\n",
    "    print(\"=\"*70)\n",
    "    print(\"BULL PUT SPREAD\")\n",
    "    print(\"=\"*70)\n",
    "    \n",
    "    strategy = BullPutSpread(config['strategies']['bull_put_spread'])\n",
    "    results = backtester.run_backtest(\n",
    "        strategy=strategy,\n",
    "        options_data=options_data,\n",
    "        underlying_data=underlying_data\n",
    "    )\n",
    "    \n",
    "    backtester.print_results(results)\n",
    "    all_results['bull_put_spread'] = results\n",
    "    print()"
   ]
  },
  {
   "cell_type": "code",
   "execution_count": null,
   "metadata": {},
   "outputs": [],
   "source": [
    "# Run bull_call_spread\n",
    "if 'bull_call_spread' in enabled_strategies:\n",
    "    print(\"=\"*70)\n",
    "    print(\"BULL CALL SPREAD\")\n",
    "    print(\"=\"*70)\n",
    "    \n",
    "    strategy = BullCallSpread(config['strategies']['bull_call_spread'])\n",
    "    results = backtester.run_backtest(\n",
    "        strategy=strategy,\n",
    "        options_data=options_data,\n",
    "        underlying_data=underlying_data\n",
    "    )\n",
    "    \n",
    "    backtester.print_results(results)\n",
    "    all_results['bull_call_spread'] = results\n",
    "    print()"
   ]
  },
  {
   "cell_type": "code",
   "execution_count": null,
   "metadata": {},
   "outputs": [],
   "source": [
    "# Run call_calendar\n",
    "if 'call_calendar' in enabled_strategies:\n",
    "    print(\"=\"*70)\n",
    "    print(\"CALL CALENDAR SPREAD\")\n",
    "    print(\"=\"*70)\n",
    "    \n",
    "    strategy = CallCalendarSpread(config['strategies']['call_calendar'])\n",
    "    results = backtester.run_backtest(\n",
    "        strategy=strategy,\n",
    "        options_data=options_data,\n",
    "        underlying_data=underlying_data\n",
    "    )\n",
    "    \n",
    "    backtester.print_results(results)\n",
    "    all_results['call_calendar'] = results\n",
    "    print()"
   ]
  },
  {
   "cell_type": "markdown",
   "metadata": {},
   "source": [
    "## 3. Calculate Kelly Criterion"
   ]
  },
  {
   "cell_type": "code",
   "execution_count": null,
   "metadata": {},
   "outputs": [],
   "source": [
    "def calculate_kelly(trades_df):\n",
    "    \"\"\"\n",
    "    Calculate Kelly Criterion from trades DataFrame.\n",
    "    \"\"\"\n",
    "    if len(trades_df) == 0:\n",
    "        return None\n",
    "    \n",
    "    # Filter winning and losing trades\n",
    "    winning_trades = trades_df[trades_df['net_pnl'] > 0]\n",
    "    losing_trades = trades_df[trades_df['net_pnl'] < 0]\n",
    "    \n",
    "    # Calculate metrics\n",
    "    total_trades = len(trades_df)\n",
    "    win_rate = len(winning_trades) / total_trades if total_trades > 0 else 0\n",
    "    avg_win = winning_trades['net_pnl'].mean() if len(winning_trades) > 0 else 0\n",
    "    avg_loss = abs(losing_trades['net_pnl'].mean()) if len(losing_trades) > 0 else 0\n",
    "    \n",
    "    # Calculate Kelly\n",
    "    loss_rate = 1 - win_rate\n",
    "    payoff_ratio = avg_win / avg_loss if avg_loss > 0 else 0\n",
    "    \n",
    "    if payoff_ratio > 0:\n",
    "        kelly_pct = (win_rate * payoff_ratio - loss_rate) / payoff_ratio\n",
    "    else:\n",
    "        kelly_pct = 0\n",
    "    \n",
    "    return {\n",
    "        'trades': total_trades,\n",
    "        'win_rate': win_rate,\n",
    "        'avg_win': avg_win,\n",
    "        'avg_loss': avg_loss,\n",
    "        'payoff_ratio': payoff_ratio,\n",
    "        'full_kelly': kelly_pct,\n",
    "        'half_kelly': kelly_pct * 0.5,\n",
    "        'quarter_kelly': kelly_pct * 0.25\n",
    "    }\n",
    "\n",
    "# Calculate Kelly for each strategy\n",
    "kelly_results = {}\n",
    "\n",
    "for strategy_name, results in all_results.items():\n",
    "    kelly = calculate_kelly(results['trades'])\n",
    "    if kelly:\n",
    "        kelly_results[strategy_name] = kelly"
   ]
  },
  {
   "cell_type": "markdown",
   "metadata": {},
   "source": [
    "## 4. Kelly Results Summary"
   ]
  },
  {
   "cell_type": "code",
   "execution_count": null,
   "metadata": {},
   "outputs": [],
   "source": [
    "print(\"\\n\" + \"=\"*80)\n",
    "print(\"KELLY CRITERION RESULTS\")\n",
    "print(\"=\"*80)\n",
    "\n",
    "for strategy_name, kelly in kelly_results.items():\n",
    "    print(f\"\\n{strategy_name.upper().replace('_', ' ')}:\")\n",
    "    print(f\"  Total Trades:    {kelly['trades']}\")\n",
    "    print(f\"  Win Rate:        {kelly['win_rate']*100:.2f}%\")\n",
    "    print(f\"  Average Win:     ${kelly['avg_win']:.2f}\")\n",
    "    print(f\"  Average Loss:    ${kelly['avg_loss']:.2f}\")\n",
    "    print(f\"  Payoff Ratio:    {kelly['payoff_ratio']:.3f}\")\n",
    "    print(f\"\")\n",
    "    print(f\"  Full Kelly:      {kelly['full_kelly']*100:.2f}%\")\n",
    "    print(f\"  Half Kelly:      {kelly['half_kelly']*100:.2f}% ← RECOMMENDED\")\n",
    "    print(f\"  Quarter Kelly:   {kelly['quarter_kelly']*100:.2f}% ← CONSERVATIVE\")\n",
    "\n",
    "print(\"\\n\" + \"=\"*80)"
   ]
  },
  {
   "cell_type": "markdown",
   "metadata": {},
   "source": [
    "## 5. Config Update Instructions\n",
    "\n",
    "Copy these values to your `config/config.yaml` file:"
   ]
  },
  {
   "cell_type": "code",
   "execution_count": null,
   "metadata": {},
   "outputs": [],
   "source": [
    "print(\"\\nCOPY TO config/config.yaml:\")\n",
    "print(\"\\n\" + \"-\"*80)\n",
    "print(\"position_sizing:\")\n",
    "print(\"  method: 'kelly'  # Change from 'fixed_risk'\")\n",
    "print(\"  kelly_pct:\")\n",
    "\n",
    "for strategy_name, kelly in kelly_results.items():\n",
    "    # Use Half Kelly by default\n",
    "    recommended_kelly = kelly['half_kelly']\n",
    "    print(f\"    {strategy_name}: {recommended_kelly:.4f}  # Half Kelly\")\n",
    "\n",
    "print(\"-\"*80)\n",
    "\n",
    "print(\"\\n💡 TIP: These are Half Kelly values (50% of Full Kelly)\")\n",
    "print(\"   If results are too volatile, use Quarter Kelly (divide by 2)\")\n",
    "print(\"   If you want more aggressive, use Full Kelly (multiply by 2)\")"
   ]
  },
  {
   "cell_type": "markdown",
   "metadata": {},
   "source": [
    "## 6. Detailed Comparison Table"
   ]
  },
  {
   "cell_type": "code",
   "execution_count": null,
   "metadata": {},
   "outputs": [],
   "source": [
    "# Create comparison DataFrame\n",
    "comparison_data = []\n",
    "\n",
    "for strategy_name, kelly in kelly_results.items():\n",
    "    comparison_data.append({\n",
    "        'Strategy': strategy_name.replace('_', ' ').title(),\n",
    "        'Trades': kelly['trades'],\n",
    "        'Win Rate %': f\"{kelly['win_rate']*100:.1f}%\",\n",
    "        'Avg Win $': f\"${kelly['avg_win']:.2f}\",\n",
    "        'Avg Loss $': f\"${kelly['avg_loss']:.2f}\",\n",
    "        'Payoff Ratio': f\"{kelly['payoff_ratio']:.3f}\",\n",
    "        'Full Kelly %': f\"{kelly['full_kelly']*100:.2f}%\",\n",
    "        'Half Kelly %': f\"{kelly['half_kelly']*100:.2f}%\",\n",
    "        'Quarter Kelly %': f\"{kelly['quarter_kelly']*100:.2f}%\"\n",
    "    })\n",
    "\n",
    "comparison_df = pd.DataFrame(comparison_data)\n",
    "print(\"\\nSTRATEGY COMPARISON:\")\n",
    "print(comparison_df.to_string(index=False))"
   ]
  },
  {
   "cell_type": "markdown",
   "metadata": {},
   "source": [
    "## Next Steps\n",
    "\n",
    "1. **Review the Kelly %** values above\n",
    "2. **Copy the values** to `config/config.yaml` → `position_sizing.kelly_pct`\n",
    "3. **Set method** to `kelly` in position_sizing\n",
    "4. **Re-run** `python example_backtest.py` to test Kelly-based sizing\n",
    "5. **Compare results** with fixed-risk sizing\n",
    "\n",
    "**Important Notes:**\n",
    "- Half Kelly is recommended (good balance of growth vs. volatility)\n",
    "- Quarter Kelly is more conservative (lower drawdowns)\n",
    "- Full Kelly is too aggressive for most traders\n",
    "- Recalibrate every 3-6 months as market conditions change"
   ]
  }
 ],
 "metadata": {
  "kernelspec": {
   "display_name": "Python 3",
   "language": "python",
   "name": "python3"
  },
  "language_info": {
   "codemirror_mode": {
    "name": "ipython",
    "version": 3
   },
   "file_extension": ".py",
   "mimetype": "text/x-python",
   "name": "python",
   "nbconvert_exporter": "python",
   "pygments_lexer": "ipython3",
   "version": "3.9.0"
  }
 },
 "nbformat": 4,
 "nbformat_minor": 4
}
