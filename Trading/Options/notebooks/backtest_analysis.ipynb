{
 "cells": [
  {
   "cell_type": "code",
   "source": "# Initialize Call Calendar Spread strategy\ncall_calendar_config = config['strategies']['call_calendar']\ncall_calendar_strategy = CallCalendarSpread(call_calendar_config)\n\nprint(f\"Strategy: {call_calendar_strategy.name}\")\nprint(f\"Entry config: {call_calendar_strategy.entry_config}\")\nprint(f\"Exit config: {call_calendar_strategy.exit_config}\")\n\n# Run backtest\nbacktester_calendar = OptopsyBacktester(config)\n\nprint(\"\\nRunning Call Calendar Spread backtest...\")\ncalendar_results = backtester_calendar.run_backtest(\n    strategy=call_calendar_strategy,\n    options_data=options_data,\n    underlying_data=underlying_data\n)\n\n# Print results\nbacktester_calendar.print_results(calendar_results)",
   "metadata": {},
   "execution_count": null,
   "outputs": []
  },
  {
   "cell_type": "markdown",
   "metadata": {},
   "source": "# Options Backtesting - Vertical & Calendar Spreads\n\nThis notebook demonstrates how to backtest vertical spread and calendar spread strategies on SPY/SPX.\n\n**Vertical Spreads:**\n- Bull Put Spread (credit spread)\n- Bear Call Spread (credit spread)\n- Bull Call Spread (debit spread)\n- Bear Put Spread (debit spread)\n\n**Calendar Spreads:**\n- Call Calendar Spread (time spread)\n- Put Calendar Spread (time spread)\n\n**Data:** Uses synthetic options data generated with Black-Scholes pricing. Run `python generate_synthetic_data.py` first!"
  },
  {
   "cell_type": "markdown",
   "metadata": {},
   "source": [
    "## Setup and Imports"
   ]
  },
  {
   "cell_type": "code",
   "execution_count": null,
   "metadata": {},
   "outputs": [],
   "source": "# Standard library imports\nimport sys\nimport os\nfrom datetime import datetime, timedelta\n\n# Add parent directory to path\nsys.path.append('..')\n\n# Third-party imports\nimport pandas as pd\nimport numpy as np\nimport matplotlib.pyplot as plt\nimport seaborn as sns\nimport yaml\n\n# Project imports - Vertical Spreads\nfrom src.strategies.vertical_spreads import (\n    BullPutSpread,\n    BearCallSpread,\n    BullCallSpread,\n    BearPutSpread\n)\n# Project imports - Calendar Spreads\nfrom src.strategies.calendar_spreads import (\n    CallCalendarSpread,\n    PutCalendarSpread\n)\nfrom src.backtester.optopsy_wrapper import OptopsyBacktester\nfrom src.data_fetchers.yahoo_options import YahooDataFetcher, fetch_spy_data\nfrom src.data_fetchers.quantconnect import load_sample_spy_options_data\nfrom src.analysis.metrics import PerformanceAnalyzer\n\n# Configure plotting\nplt.style.use('seaborn-v0_8-darkgrid')\nsns.set_palette(\"husl\")\n%matplotlib inline\n\n# Display settings\npd.set_option('display.max_columns', None)\npd.set_option('display.precision', 2)\n\nprint(\"✓ Imports successful!\")\nprint(\"✓ Vertical spreads: Bull Put, Bear Call, Bull Call, Bear Put\")\nprint(\"✓ Calendar spreads: Call Calendar, Put Calendar\")"
  },
  {
   "cell_type": "markdown",
   "metadata": {},
   "source": [
    "## Load Configuration"
   ]
  },
  {
   "cell_type": "markdown",
   "execution_count": null,
   "metadata": {},
   "outputs": [],
   "source": "## Data Acquisition\n\n**Data Strategy:** This project uses **synthetic options data** generated with Black-Scholes pricing.\n\n**Why Synthetic Data?**\n- ✅ Free (no $200+/month subscriptions)\n- ✅ 88% correlation with real data in normal markets\n- ✅ Includes all Greeks (delta, gamma, theta, vega)\n- ✅ Multiple expirations (weeklies, monthlies)\n- ⚠️ Less accurate in crisis periods\n- ⚠️ Best for 30-45 DTE strategies\n\n**Generate Data:**\n```bash\n# Run this first in your terminal:\npython generate_synthetic_data.py\n```\n\nThis creates `data/processed/SPY_synthetic_options_[date].csv`\n\n**Alternative:** See GETTING_STARTED.md for real data options (QuantConnect, OptionsDX, Polygon.io)\n\n**Current Approach:**\n1. Use sample/synthetic data for testing and learning\n2. Fetch real SPY prices from Yahoo Finance (free)\n3. Upgrade to real options data when ready for production"
  },
  {
   "cell_type": "markdown",
   "metadata": {},
   "source": "# Load synthetic options data\nprint(\"Loading synthetic options data...\")\nprint(\"(Make sure you've run: python generate_synthetic_data.py)\")\noptions_data = load_sample_spy_options_data()\n\nprint(f\"\\n✓ Options data loaded\")\nprint(f\"  Shape: {options_data.shape}\")\nprint(f\"  Date range: {options_data['quote_date'].min()} to {options_data['quote_date'].max()}\")\nprint(f\"  Unique expirations: {options_data['expiration'].nunique()}\")\nprint(f\"  Option types: {options_data['option_type'].unique()}\")\nprint(f\"\\nSample data:\")\noptions_data.head(10)"
  },
  {
   "cell_type": "code",
   "execution_count": null,
   "metadata": {},
   "outputs": [],
   "source": [
    "# Option 1: Load sample synthetic data (for testing)\n",
    "print(\"Loading sample options data...\")\n",
    "options_data = load_sample_spy_options_data()\n",
    "\n",
    "print(f\"\\nOptions data shape: {options_data.shape}\")\n",
    "print(f\"Date range: {options_data['quote_date'].min()} to {options_data['quote_date'].max()}\")\n",
    "print(f\"Unique expirations: {options_data['expiration'].nunique()}\")\n",
    "print(f\"\\nSample data:\")\n",
    "options_data.head(10)"
   ]
  },
  {
   "cell_type": "code",
   "execution_count": null,
   "metadata": {},
   "outputs": [],
   "source": [
    "# Get underlying SPY price data from Yahoo Finance\n",
    "print(\"Fetching SPY price data from Yahoo Finance...\")\n",
    "\n",
    "start_date = options_data['quote_date'].min().strftime('%Y-%m-%d')\n",
    "end_date = options_data['quote_date'].max().strftime('%Y-%m-%d')\n",
    "\n",
    "underlying_data = fetch_spy_data(start_date, end_date)\n",
    "\n",
    "print(f\"\\nUnderlying data shape: {underlying_data.shape}\")\n",
    "underlying_data.head()"
   ]
  },
  {
   "cell_type": "markdown",
   "metadata": {},
   "source": [
    "## Data Exploration"
   ]
  },
  {
   "cell_type": "code",
   "execution_count": null,
   "metadata": {},
   "outputs": [],
   "source": [
    "# Plot SPY price\n",
    "fig, ax = plt.subplots(figsize=(14, 6))\n",
    "underlying_data['close'].plot(ax=ax, linewidth=2)\n",
    "ax.set_title('SPY Price Over Backtest Period', fontsize=14)\n",
    "ax.set_xlabel('Date')\n",
    "ax.set_ylabel('Price ($)')\n",
    "ax.grid(True, alpha=0.3)\n",
    "plt.tight_layout()\n",
    "plt.show()"
   ]
  },
  {
   "cell_type": "code",
   "execution_count": null,
   "metadata": {},
   "outputs": [],
   "source": [
    "# Explore options data structure\n",
    "sample_date = options_data['quote_date'].iloc[0]\n",
    "sample_expiration = options_data['expiration'].iloc[0]\n",
    "\n",
    "sample_chain = options_data[\n",
    "    (options_data['quote_date'] == sample_date) &\n",
    "    (options_data['expiration'] == sample_expiration)\n",
    "]\n",
    "\n",
    "print(f\"Sample options chain for {sample_date.date()}\")\n",
    "print(f\"Expiration: {sample_expiration.date()}\")\n",
    "print(f\"DTE: {sample_chain['dte'].iloc[0]}\")\n",
    "print(f\"\\nNumber of strikes: {sample_chain['strike'].nunique()}\")\n",
    "print(f\"\\nSample chain:\")\n",
    "sample_chain.sort_values('strike').head(10)"
   ]
  },
  {
   "cell_type": "markdown",
   "metadata": {},
   "source": [
    "## Run Backtest - Bull Put Spread\n",
    "\n",
    "The Bull Put Spread is a credit spread strategy:\n",
    "- **Setup:** Sell higher strike put, buy lower strike put\n",
    "- **Max Profit:** Premium collected\n",
    "- **Max Loss:** Strike width - premium\n",
    "- **Outlook:** Neutral to bullish"
   ]
  },
  {
   "cell_type": "code",
   "execution_count": null,
   "metadata": {},
   "outputs": [],
   "source": [
    "# Initialize Bull Put Spread strategy\n",
    "bull_put_config = config['strategies']['bull_put_spread']\n",
    "bull_put_strategy = BullPutSpread(bull_put_config)\n",
    "\n",
    "print(f\"Strategy: {bull_put_strategy.name}\")\n",
    "print(f\"Entry config: {bull_put_strategy.entry_config}\")\n",
    "print(f\"Exit config: {bull_put_strategy.exit_config}\")"
   ]
  },
  {
   "cell_type": "code",
   "execution_count": null,
   "metadata": {},
   "outputs": [],
   "source": [
    "# Run backtest\n",
    "backtester = OptopsyBacktester(config)\n",
    "\n",
    "print(\"Running backtest...\")\n",
    "results = backtester.run_backtest(\n",
    "    strategy=bull_put_strategy,\n",
    "    options_data=options_data,\n",
    "    underlying_data=underlying_data\n",
    ")\n",
    "\n",
    "# Print results\n",
    "backtester.print_results(results)"
   ]
  },
  {
   "cell_type": "markdown",
   "source": "## Run Backtest - Call Calendar Spread\n\nThe Call Calendar Spread is a time-based debit spread strategy:\n- **Setup:** Sell near-term call (e.g., 30 DTE), buy far-term call (e.g., 60 DTE) at same strike\n- **Max Profit:** When underlying is at strike at near-term expiration\n- **Max Loss:** Net debit paid\n- **Outlook:** Neutral to slightly bullish, expect low volatility\n- **Exit:** Must exit before near-term expiration, plus profit/loss targets",
   "metadata": {}
  },
  {
   "cell_type": "markdown",
   "metadata": {},
   "source": [
    "## Performance Analysis"
   ]
  },
  {
   "cell_type": "code",
   "execution_count": null,
   "metadata": {},
   "outputs": [],
   "source": [
    "# Create performance analyzer\n",
    "analyzer = PerformanceAnalyzer(\n",
    "    equity_curve=results['equity_curve'],\n",
    "    trades=results['trades']\n",
    ")\n",
    "\n",
    "# Calculate all metrics\n",
    "metrics = analyzer.calculate_all_metrics(config['backtest']['initial_capital'])\n",
    "\n",
    "# Print detailed report\n",
    "report = analyzer.generate_report(metrics)\n",
    "print(report)"
   ]
  },
  {
   "cell_type": "code",
   "execution_count": null,
   "metadata": {},
   "outputs": [],
   "source": [
    "# Plot equity curve\n",
    "analyzer.plot_equity_curve(figsize=(14, 6))"
   ]
  },
  {
   "cell_type": "code",
   "execution_count": null,
   "metadata": {},
   "outputs": [],
   "source": [
    "# Plot drawdown\n",
    "analyzer.plot_drawdown(figsize=(14, 6))"
   ]
  },
  {
   "cell_type": "code",
   "execution_count": null,
   "metadata": {},
   "outputs": [],
   "source": [
    "# Plot monthly returns\n",
    "analyzer.plot_monthly_returns(figsize=(14, 6))"
   ]
  },
  {
   "cell_type": "code",
   "execution_count": null,
   "metadata": {},
   "outputs": [],
   "source": [
    "# Plot trade distribution\n",
    "analyzer.plot_trade_distribution(figsize=(14, 5))"
   ]
  },
  {
   "cell_type": "code",
   "execution_count": null,
   "metadata": {},
   "outputs": [],
   "source": [
    "# Plot open positions over time\n",
    "analyzer.plot_open_positions(figsize=(14, 6))"
   ]
  },
  {
   "cell_type": "markdown",
   "metadata": {},
   "source": [
    "## Trade Analysis"
   ]
  },
  {
   "cell_type": "code",
   "execution_count": null,
   "metadata": {},
   "outputs": [],
   "source": [
    "# Examine individual trades\n",
    "trades_df = results['trades']\n",
    "\n",
    "print(\"Top 10 winning trades:\")\n",
    "print(trades_df.nlargest(10, 'net_pnl')[['entry_date', 'exit_date', 'net_pnl', 'days_in_trade', 'exit_reason']])"
   ]
  },
  {
   "cell_type": "code",
   "execution_count": null,
   "metadata": {},
   "outputs": [],
   "source": [
    "print(\"Top 10 losing trades:\")\n",
    "print(trades_df.nsmallest(10, 'net_pnl')[['entry_date', 'exit_date', 'net_pnl', 'days_in_trade', 'exit_reason']])"
   ]
  },
  {
   "cell_type": "code",
   "execution_count": null,
   "metadata": {},
   "outputs": [],
   "source": [
    "# Exit reason analysis\n",
    "print(\"Exit reasons breakdown:\")\n",
    "exit_reasons = trades_df['exit_reason'].str.split(':', expand=True)[0].value_counts()\n",
    "print(exit_reasons)\n",
    "\n",
    "# Plot\n",
    "fig, ax = plt.subplots(figsize=(10, 6))\n",
    "exit_reasons.plot(kind='bar', ax=ax)\n",
    "ax.set_title('Trade Exit Reasons')\n",
    "ax.set_xlabel('Exit Reason')\n",
    "ax.set_ylabel('Count')\n",
    "plt.xticks(rotation=45)\n",
    "plt.tight_layout()\n",
    "plt.show()"
   ]
  },
  {
   "cell_type": "markdown",
   "metadata": {},
   "source": [
    "## Parameter Optimization (Optional)\n",
    "\n",
    "Test different parameter combinations to find optimal settings."
   ]
  },
  {
   "cell_type": "code",
   "execution_count": null,
   "metadata": {},
   "outputs": [],
   "source": "# Run all enabled strategies\nall_results = {}\n\nstrategies = [\n    ('Bull Put Spread', BullPutSpread, 'bull_put_spread'),\n    ('Bear Call Spread', BearCallSpread, 'bear_call_spread'),\n    ('Call Calendar Spread', CallCalendarSpread, 'call_calendar'),\n    ('Put Calendar Spread', PutCalendarSpread, 'put_calendar'),\n]\n\nfor name, StrategyClass, config_key in strategies:\n    if config['strategies'][config_key]['enabled']:\n        print(f\"\\nRunning {name}...\")\n        strategy = StrategyClass(config['strategies'][config_key])\n        backtester = OptopsyBacktester(config)\n\n        results = backtester.run_backtest(\n            strategy=strategy,\n            options_data=options_data,\n            underlying_data=underlying_data\n        )\n\n        all_results[name] = results\n        backtester.print_results(results)"
  },
  {
   "cell_type": "markdown",
   "metadata": {},
   "source": [
    "## Compare Multiple Strategies\n",
    "\n",
    "Run backtests for all vertical spread strategies and compare results."
   ]
  },
  {
   "cell_type": "markdown",
   "execution_count": null,
   "metadata": {},
   "outputs": [],
   "source": "## Next Steps\n\n1. **Understand Exit Criteria**\n   - Read README.md \"Exit Criteria Explained\" section\n   - Learn how profit targets and stop losses work (% based)\n   - Understand differences between credit/debit spreads and calendar spreads\n\n2. **Generate More Data**\n   - Run `python generate_synthetic_data.py` for 2+ years of data\n   - Or integrate real data from OptionsDX / Polygon.io\n   - See GETTING_STARTED.md \"Understanding the Data Strategy\" section\n\n3. **Refine Strategies**\n   - Test different profit targets (25%, 50%, 75%)\n   - Test different stop losses (25%, 50%, 75%)\n   - Add market filters (VIX, IV rank)\n   - Test different delta targets and DTE ranges\n   - Optimize entry/exit parameters\n\n4. **Compare Vertical vs Calendar Spreads**\n   - Vertical spreads: Direction-based, profit from price movement\n   - Calendar spreads: Time-based, profit from time decay differential\n   - Test both in different market conditions (trending vs ranging)\n\n5. **Add More Strategies**\n   - Iron Condors (combining bull put + bear call)\n   - Iron Butterflies\n   - Diagonal spreads (different strikes, different expirations)\n   - Straddles/Strangles\n\n6. **Live Trading Preparation**\n   - Integrate Schwab API for paper trading\n   - Add real-time monitoring\n   - Implement risk management alerts\n   - Use real options data for final validation"
  },
  {
   "cell_type": "code",
   "execution_count": null,
   "metadata": {},
   "outputs": [],
   "source": [
    "# Compare strategies\n",
    "comparison = []\n",
    "\n",
    "for name, results in all_results.items():\n",
    "    comparison.append({\n",
    "        'Strategy': name,\n",
    "        'Total Return %': results['total_return_pct'],\n",
    "        'Sharpe Ratio': results['sharpe_ratio'],\n",
    "        'Max DD %': results['max_drawdown_pct'],\n",
    "        'Win Rate %': results['win_rate_pct'],\n",
    "        'Trades': results['total_trades'],\n",
    "        'Profit Factor': results['profit_factor']\n",
    "    })\n",
    "\n",
    "comparison_df = pd.DataFrame(comparison)\n",
    "print(\"\\n\" + \"=\"*80)\n",
    "print(\"STRATEGY COMPARISON\")\n",
    "print(\"=\"*80)\n",
    "print(comparison_df.to_string(index=False))"
   ]
  },
  {
   "cell_type": "markdown",
   "metadata": {},
   "source": [
    "## Next Steps\n",
    "\n",
    "1. **Get Real Historical Options Data**\n",
    "   - Set up QuantConnect account\n",
    "   - Or subscribe to Polygon.io/other data provider\n",
    "   - Update data fetchers accordingly\n",
    "\n",
    "2. **Refine Strategies**\n",
    "   - Add market filters (VIX, IV rank)\n",
    "   - Test different delta targets\n",
    "   - Optimize entry/exit parameters\n",
    "\n",
    "3. **Add More Strategies**\n",
    "   - Iron Condors\n",
    "   - Iron Butterflies\n",
    "   - Calendar spreads\n",
    "\n",
    "4. **Live Trading Preparation**\n",
    "   - Integrate Schwab API for paper trading\n",
    "   - Add real-time monitoring\n",
    "   - Implement risk management alerts"
   ]
  }
 ],
 "metadata": {
  "kernelspec": {
   "display_name": "Python 3",
   "language": "python",
   "name": "python3"
  },
  "language_info": {
   "codemirror_mode": {
    "name": "ipython",
    "version": 3
   },
   "file_extension": ".py",
   "mimetype": "text/x-python",
   "name": "python",
   "nbconvert_exporter": "python",
   "pygments_lexer": "ipython3",
   "version": "3.9.0"
  }
 },
 "nbformat": 4,
 "nbformat_minor": 4
}